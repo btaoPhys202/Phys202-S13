{
 "metadata": {
  "name": "NumPyEx1"
 },
 "nbformat": 3,
 "nbformat_minor": 0,
 "worksheets": [
  {
   "cells": [
    {
     "cell_type": "markdown",
     "metadata": {},
     "source": [
      "Question 1\n",
      "-"
     ]
    },
    {
     "cell_type": "code",
     "collapsed": false,
     "input": [
      "a = np.array([[1,1,1,1],[1,1,1,1],[1,1,1,2],[1,6,1,1]])"
     ],
     "language": "python",
     "metadata": {},
     "outputs": [],
     "prompt_number": 1
    },
    {
     "cell_type": "code",
     "collapsed": false,
     "input": [
      "a"
     ],
     "language": "python",
     "metadata": {},
     "outputs": [
      {
       "output_type": "pyout",
       "prompt_number": 2,
       "text": [
        "array([[1, 1, 1, 1],\n",
        "       [1, 1, 1, 1],\n",
        "       [1, 1, 1, 2],\n",
        "       [1, 6, 1, 1]])"
       ]
      }
     ],
     "prompt_number": 2
    },
    {
     "cell_type": "code",
     "collapsed": false,
     "input": [
      "b = np.array([[0,0,0,0,0],[2,0,0,0,0],[0,3,0,0,0],[0,0,4,0,0],[0,0,0,5,0],[0,0,0,0,6]],dtype=float)"
     ],
     "language": "python",
     "metadata": {},
     "outputs": [],
     "prompt_number": 15
    },
    {
     "cell_type": "code",
     "collapsed": false,
     "input": [
      "b"
     ],
     "language": "python",
     "metadata": {},
     "outputs": [
      {
       "output_type": "pyout",
       "prompt_number": 5,
       "text": [
        "array([[ 0.,  0.,  0.,  0.,  0.],\n",
        "       [ 2.,  0.,  0.,  0.,  0.],\n",
        "       [ 0.,  3.,  0.,  0.,  0.],\n",
        "       [ 0.,  0.,  4.,  0.,  0.],\n",
        "       [ 0.,  0.,  0.,  5.,  0.],\n",
        "       [ 0.,  0.,  0.,  0.,  6.]])"
       ]
      }
     ],
     "prompt_number": 5
    },
    {
     "cell_type": "markdown",
     "metadata": {},
     "source": [
      "Question 2\n",
      "-"
     ]
    },
    {
     "cell_type": "code",
     "collapsed": false,
     "input": [
      "help(np.tile)"
     ],
     "language": "python",
     "metadata": {},
     "outputs": [
      {
       "output_type": "stream",
       "stream": "stdout",
       "text": [
        "Help on function tile in module numpy.lib.shape_base:\n",
        "\n",
        "tile(A, reps)\n",
        "    Construct an array by repeating A the number of times given by reps.\n",
        "    \n",
        "    If `reps` has length ``d``, the result will have dimension of\n",
        "    ``max(d, A.ndim)``.\n",
        "    \n",
        "    If ``A.ndim < d``, `A` is promoted to be d-dimensional by prepending new\n",
        "    axes. So a shape (3,) array is promoted to (1, 3) for 2-D replication,\n",
        "    or shape (1, 1, 3) for 3-D replication. If this is not the desired\n",
        "    behavior, promote `A` to d-dimensions manually before calling this\n",
        "    function.\n",
        "    \n",
        "    If ``A.ndim > d``, `reps` is promoted to `A`.ndim by pre-pending 1's to it.\n",
        "    Thus for an `A` of shape (2, 3, 4, 5), a `reps` of (2, 2) is treated as\n",
        "    (1, 1, 2, 2).\n",
        "    \n",
        "    Parameters\n",
        "    ----------\n",
        "    A : array_like\n",
        "        The input array.\n",
        "    reps : array_like\n",
        "        The number of repetitions of `A` along each axis.\n",
        "    \n",
        "    Returns\n",
        "    -------\n",
        "    c : ndarray\n",
        "        The tiled output array.\n",
        "    \n",
        "    See Also\n",
        "    --------\n",
        "    repeat : Repeat elements of an array.\n",
        "    \n",
        "    Examples\n",
        "    --------\n",
        "    >>> a = np.array([0, 1, 2])\n",
        "    >>> np.tile(a, 2)\n",
        "    array([0, 1, 2, 0, 1, 2])\n",
        "    >>> np.tile(a, (2, 2))\n",
        "    array([[0, 1, 2, 0, 1, 2],\n",
        "           [0, 1, 2, 0, 1, 2]])\n",
        "    >>> np.tile(a, (2, 1, 2))\n",
        "    array([[[0, 1, 2, 0, 1, 2]],\n",
        "           [[0, 1, 2, 0, 1, 2]]])\n",
        "    \n",
        "    >>> b = np.array([[1, 2], [3, 4]])\n",
        "    >>> np.tile(b, 2)\n",
        "    array([[1, 2, 1, 2],\n",
        "           [3, 4, 3, 4]])\n",
        "    >>> np.tile(b, (2, 1))\n",
        "    array([[1, 2],\n",
        "           [3, 4],\n",
        "           [1, 2],\n",
        "           [3, 4]])\n",
        "\n"
       ]
      }
     ],
     "prompt_number": 6
    },
    {
     "cell_type": "code",
     "collapsed": false,
     "input": [
      "c = np.array([tile([4,3],3),tile([2,1],3),tile([4,3],3),tile([2,1],3)])"
     ],
     "language": "python",
     "metadata": {},
     "outputs": [],
     "prompt_number": 12
    },
    {
     "cell_type": "code",
     "collapsed": false,
     "input": [
      "c"
     ],
     "language": "python",
     "metadata": {},
     "outputs": [
      {
       "output_type": "pyout",
       "prompt_number": 13,
       "text": [
        "array([[4, 3, 4, 3, 4, 3],\n",
        "       [2, 1, 2, 1, 2, 1],\n",
        "       [4, 3, 4, 3, 4, 3],\n",
        "       [2, 1, 2, 1, 2, 1]])"
       ]
      }
     ],
     "prompt_number": 13
    },
    {
     "cell_type": "markdown",
     "metadata": {},
     "source": [
      "Question 3\n",
      "-"
     ]
    },
    {
     "cell_type": "markdown",
     "metadata": {},
     "source": [
      "Part A"
     ]
    },
    {
     "cell_type": "code",
     "collapsed": false,
     "input": [
      "is_prime = np.ones((100,), dtype=bool)"
     ],
     "language": "python",
     "metadata": {},
     "outputs": [],
     "prompt_number": 16
    },
    {
     "cell_type": "markdown",
     "metadata": {},
     "source": [
      "Part B"
     ]
    },
    {
     "cell_type": "code",
     "collapsed": false,
     "input": [
      "is_prime[0] = False\n",
      "is_prime[1] = False"
     ],
     "language": "python",
     "metadata": {},
     "outputs": [],
     "prompt_number": 17
    },
    {
     "cell_type": "markdown",
     "metadata": {},
     "source": [
      "Part C"
     ]
    },
    {
     "cell_type": "code",
     "collapsed": false,
     "input": [
      "N_max = int(np.sqrt(len(is_prime)))\n",
      "for j in range(2, N_max):\n",
      "    is_prime[2*j::j] = False"
     ],
     "language": "python",
     "metadata": {},
     "outputs": [],
     "prompt_number": 20
    },
    {
     "cell_type": "markdown",
     "metadata": {},
     "source": []
    }
   ],
   "metadata": {}
  }
 ]
}