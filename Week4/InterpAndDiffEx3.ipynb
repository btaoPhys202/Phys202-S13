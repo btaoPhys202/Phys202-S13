{
 "metadata": {
  "name": "InterpAndDiffEx3"
 },
 "nbformat": 3,
 "nbformat_minor": 0,
 "worksheets": [
  {
   "cells": [
    {
     "cell_type": "markdown",
     "metadata": {},
     "source": [
      "Question 1\n",
      "="
     ]
    },
    {
     "cell_type": "code",
     "collapsed": false,
     "input": [
      "from Electrostatics import *\n",
      "x,y = meshgrid(arange(-5,5,0.5),arange(-5,5,0.5))\n",
      "Vdipole = dipolePotential(x,y,1e-9,2.);\n",
      "contour(x,y,Vdipole,cmap=cm.Spectral)\n",
      "show()"
     ],
     "language": "python",
     "metadata": {},
     "outputs": [
      {
       "output_type": "display_data",
       "png": "[encoded data removed]"
      }
     ],
     "prompt_number": 4
    },
    {
     "cell_type": "markdown",
     "metadata": {},
     "source": [
      "Part A\n",
      "-"
     ]
    },
    {
     "cell_type": "code",
     "collapsed": false,
     "input": [
      "from numpy import ndarray\n",
      "mask = (Vdipole==0)\n",
      "contour(x[mask],y[mask],Vdipole)\n",
      "show()"
     ],
     "language": "python",
     "metadata": {},
     "outputs": [
      {
       "output_type": "display_data",
       "png": "[encoded data removed]"
      }
     ],
     "prompt_number": 50
    },
    {
     "cell_type": "markdown",
     "metadata": {},
     "source": [
      "Part B\n",
      "-"
     ]
    },
    {
     "cell_type": "code",
     "collapsed": false,
     "input": [
      "print Vdipole[mask]"
     ],
     "language": "python",
     "metadata": {},
     "outputs": [
      {
       "output_type": "stream",
       "stream": "stdout",
       "text": [
        "[ 0.  0.  0.  0.  0.  0.  0.  0.  0.  0.  0.  0.  0.  0.  0.  0.  0.  0.\n",
        "  0.  0.]\n"
       ]
      }
     ],
     "prompt_number": 51
    },
    {
     "cell_type": "markdown",
     "metadata": {},
     "source": [
      "Question 2\n",
      "="
     ]
    },
    {
     "cell_type": "markdown",
     "metadata": {},
     "source": [
      "Part A\n",
      "-"
     ]
    },
    {
     "cell_type": "code",
     "collapsed": false,
     "input": [
      "\n",
      "Resistance1 = [3.239,3.118,3.004,2.897,2.795,2.7,2.61,2.526,2.446,2.371,2.3,2.233,2.169,2.11,2.053,2,1.95,1.902,1.857,1.815,1.774,1.736,1.7,1.666,1.634,1.603,1.574,1.547,1.521,1.496]\n",
      "from scipy.interpolate import interp1d\n",
      "def Temp(Resistance):\n",
      "    \"\"\"Takes a given resistance and returns the interpolated temperature.\"\"\"\n",
      "    newTemp= interp1d(Temp, Resistance1)\n",
      "    \n",
      "    TempFinal = newTemp(Resistance)\n",
      "    return TempFinal"
     ],
     "language": "python",
     "metadata": {},
     "outputs": [],
     "prompt_number": 92
    },
    {
     "cell_type": "code",
     "collapsed": false,
     "input": [
      "Temp(10)"
     ],
     "language": "python",
     "metadata": {},
     "outputs": [
      {
       "ename": "ValueError",
       "evalue": "the x array must have exactly one dimension.",
       "output_type": "pyerr",
       "traceback": [
        "\u001b[1;31m---------------------------------------------------------------------------\u001b[0m\n\u001b[1;31mValueError\u001b[0m                                Traceback (most recent call last)",
        "\u001b[1;32m<ipython-input-93-2570bee509dc>\u001b[0m in \u001b[0;36m<module>\u001b[1;34m()\u001b[0m\n\u001b[1;32m----> 1\u001b[1;33m \u001b[0mTemp\u001b[0m\u001b[1;33m(\u001b[0m\u001b[1;36m10\u001b[0m\u001b[1;33m)\u001b[0m\u001b[1;33m\u001b[0m\u001b[0m\n\u001b[0m",
        "\u001b[1;32m<ipython-input-92-03456d1f98eb>\u001b[0m in \u001b[0;36mTemp\u001b[1;34m(Resistance)\u001b[0m\n\u001b[0;32m      4\u001b[0m \u001b[1;32mdef\u001b[0m \u001b[0mTemp\u001b[0m\u001b[1;33m(\u001b[0m\u001b[0mResistance\u001b[0m\u001b[1;33m)\u001b[0m\u001b[1;33m:\u001b[0m\u001b[1;33m\u001b[0m\u001b[0m\n\u001b[0;32m      5\u001b[0m     \u001b[1;34m\"\"\"Takes a given resistance and returns the interpolated temperature.\"\"\"\u001b[0m\u001b[1;33m\u001b[0m\u001b[0m\n\u001b[1;32m----> 6\u001b[1;33m     \u001b[0mnewTemp\u001b[0m\u001b[1;33m=\u001b[0m \u001b[0minterp1d\u001b[0m\u001b[1;33m(\u001b[0m\u001b[0mTemp\u001b[0m\u001b[1;33m,\u001b[0m \u001b[0mResistance1\u001b[0m\u001b[1;33m)\u001b[0m\u001b[1;33m\u001b[0m\u001b[0m\n\u001b[0m\u001b[0;32m      7\u001b[0m \u001b[1;33m\u001b[0m\u001b[0m\n\u001b[0;32m      8\u001b[0m     \u001b[0mTempFinal\u001b[0m \u001b[1;33m=\u001b[0m \u001b[0mnewTemp\u001b[0m\u001b[1;33m(\u001b[0m\u001b[0mResistance\u001b[0m\u001b[1;33m)\u001b[0m\u001b[1;33m\u001b[0m\u001b[0m\n",
        "\u001b[1;32m/usr/lib/python2.7/dist-packages/scipy/interpolate/interpolate.pyc\u001b[0m in \u001b[0;36m__init__\u001b[1;34m(self, x, y, kind, axis, copy, bounds_error, fill_value)\u001b[0m\n\u001b[0;32m    213\u001b[0m \u001b[1;33m\u001b[0m\u001b[0m\n\u001b[0;32m    214\u001b[0m         \u001b[1;32mif\u001b[0m \u001b[0mx\u001b[0m\u001b[1;33m.\u001b[0m\u001b[0mndim\u001b[0m \u001b[1;33m!=\u001b[0m \u001b[1;36m1\u001b[0m\u001b[1;33m:\u001b[0m\u001b[1;33m\u001b[0m\u001b[0m\n\u001b[1;32m--> 215\u001b[1;33m             \u001b[1;32mraise\u001b[0m \u001b[0mValueError\u001b[0m\u001b[1;33m(\u001b[0m\u001b[1;34m\"the x array must have exactly one dimension.\"\u001b[0m\u001b[1;33m)\u001b[0m\u001b[1;33m\u001b[0m\u001b[0m\n\u001b[0m\u001b[0;32m    216\u001b[0m         \u001b[1;32mif\u001b[0m \u001b[0my\u001b[0m\u001b[1;33m.\u001b[0m\u001b[0mndim\u001b[0m \u001b[1;33m==\u001b[0m \u001b[1;36m0\u001b[0m\u001b[1;33m:\u001b[0m\u001b[1;33m\u001b[0m\u001b[0m\n\u001b[0;32m    217\u001b[0m             \u001b[1;32mraise\u001b[0m \u001b[0mValueError\u001b[0m\u001b[1;33m(\u001b[0m\u001b[1;34m\"the y array must have at least one dimension.\"\u001b[0m\u001b[1;33m)\u001b[0m\u001b[1;33m\u001b[0m\u001b[0m\n",
        "\u001b[1;31mValueError\u001b[0m: the x array must have exactly one dimension."
       ]
      }
     ],
     "prompt_number": 93
    },
    {
     "cell_type": "markdown",
     "metadata": {},
     "source": [
      "Question 3\n",
      "="
     ]
    },
    {
     "cell_type": "markdown",
     "metadata": {},
     "source": [
      "Part A\n",
      "-"
     ]
    },
    {
     "cell_type": "code",
     "collapsed": false,
     "input": [
      "def finiteDifference(x,y):\n",
      "    \"\"\"Takes values of x and y(x) as array arguments to return the derivative of y with respect to x\"\"\"\n",
      "    dy = diff(y)\n",
      "    dx = diff(x)\n",
      "    dydx = (dy/dx)\n",
      "    return dydx"
     ],
     "language": "python",
     "metadata": {},
     "outputs": [],
     "prompt_number": 118
    },
    {
     "cell_type": "markdown",
     "metadata": {},
     "source": [
      "Part B\n",
      "-"
     ]
    },
    {
     "cell_type": "code",
     "collapsed": false,
     "input": [
      "y1 = y**5\n",
      "x1 = arange (0.,10.,0.1)\n",
      "print finiteDifference(x1,y1)"
     ],
     "language": "python",
     "metadata": {},
     "outputs": [
      {
       "output_type": "stream",
       "stream": "stdout",
       "text": [
        "[  1.00000000e-24   3.35544310e-17   8.47255055e-13   1.12505262e-09\n",
        "   2.96897324e-07   2.81322648e-05   1.31263833e-03   3.64378632e-02\n",
        "   6.80119056e-01   9.28210201e+00   9.83470594e+01   8.45615107e+02\n",
        "   6.10244785e+03   3.79423858e+04   2.07512887e+05   1.01513892e+06\n",
        "   4.50297681e+06   1.83180318e+07   6.89878365e+07   2.42467824e+08\n",
        "   8.00727846e+08   2.49925187e+09   7.41024353e+09   2.09638911e+10\n",
        "   5.68081833e+10   1.47955988e+11   3.71492958e+11   9.01642246e+11\n",
        "   2.12045309e+12   4.84252397e+12   1.07599064e+13   2.33025034e+13\n",
        "   4.92659335e+13   1.01828896e+14   2.06039468e+14   4.08611684e+14\n",
        "   7.95123236e+14   1.51972443e+15   2.85568688e+15   5.28018324e+15\n",
        "   9.61455581e+15   1.72534122e+16   3.05342329e+16   5.33267441e+16\n",
        "   9.19623286e+16   1.56684184e+17   2.63887198e+17   4.39544259e+17\n",
        "   7.24399128e+17   1.18176720e+18   1.90915464e+18   3.05542450e+18\n",
        "   4.84596011e+18   7.61927508e+18   1.18798934e+19   1.83742001e+19\n",
        "   2.81985146e+19   4.29520844e+19   6.49523247e+19   9.75358166e+19\n",
        "   1.45476797e+20   2.15565751e+20   3.17405036e+20   4.64497229e+20\n",
        "   6.75726369e+20   9.77364045e+20   1.40577343e+21   2.01103732e+21\n",
        "   2.86180418e+21   4.05173315e+21   5.70802963e+21   8.00270334e+21\n",
        "   1.11673586e+22   1.55125500e+22   2.14530181e+22   2.95404720e+22\n",
        "   4.05060236e+22   5.53149277e+22   7.52369582e+22   1.01936591e+23\n",
        "   1.37588202e+23   1.85022757e+23   2.47914044e+23   3.31014404e+23\n",
        "   4.40452259e+23   5.84106582e+23   7.72076908e+23   1.01727170e+24\n",
        "   1.33614292e+24   1.74960079e+24   2.28415016e+24   2.97329864e+24\n",
        "   3.85929732e+24   4.99528772e+24   6.44794358e+24   8.30071437e+24\n",
        "   1.06577988e+25   1.36490025e+25   1.74356630e+25]\n"
       ]
      }
     ],
     "prompt_number": 123
    },
    {
     "cell_type": "code",
     "collapsed": false,
     "input": [
      "dydx1 = zeros(y.shape,float)\n",
      "dydx1[:-1] = diff(y)/diff(x)\n",
      "dydx[-1] = (y[-1]-y[-2])/(x[-1]-x[-2])"
     ],
     "language": "python",
     "metadata": {},
     "outputs": [],
     "prompt_number": 125
    },
    {
     "cell_type": "code",
     "collapsed": false,
     "input": [
      "dydx2 = zeros(y.shape,float)\n",
      "dydx2[1:-1] = (y[2:]-y[:-2])/(x[2:]-x[:-2])\n",
      "dydx2[0] = (y[1]-y[0])/(x[1]-x[0])\n",
      "dydx2[-1] = (y[-1]-y[-2])/(x[-1]-x[-2])"
     ],
     "language": "python",
     "metadata": {},
     "outputs": [],
     "prompt_number": 126
    },
    {
     "cell_type": "code",
     "collapsed": false,
     "input": [
      "dydxExact = 5*x**4"
     ],
     "language": "python",
     "metadata": {},
     "outputs": [],
     "prompt_number": 127
    },
    {
     "cell_type": "code",
     "collapsed": false,
     "input": [
      "percentError1 = 100*abs( dydx1[1:] - dydxExact[1:] )/dydxExact[1:]\n",
      "percentError2 = 100*abs( dydx2[1:] - dydxExact[1:] )/dydxExact[1:]\n",
      "\n",
      "print percentError1\n",
      "print percentError2"
     ],
     "language": "python",
     "metadata": {},
     "outputs": [
      {
       "output_type": "stream",
       "stream": "stdout",
       "text": [
        "[ 520.          163.75         92.83950617   64.140625     48.832\n",
        "   39.36728395   32.95293628   28.32519531   24.83158055   22.102\n",
        "   19.91120825   18.11439043   16.61426421   15.34308621   14.25224691\n",
        "   13.30596924   12.47734103   11.74573236   11.09506526   10.512625\n",
        "    9.98822507    9.51360904    9.08201443    8.68784963    8.3264512\n",
        "    7.99389902    7.68687399    7.40254712    7.13849234    6.89261728\n",
        "    6.66310782    6.44838333    6.2470603     6.05792256    5.87989671\n",
        "    5.7120318     5.55348233    5.40349406    5.26139201    5.12657031\n",
        "    4.99848359    4.87663962    4.76059297    4.6499396     4.54431215\n",
        "    4.44337588    4.34682513    4.25438021    4.16578473    4.0808032\n",
        "    3.99921894    3.92083228    3.84545885    3.77292823    3.70308258\n",
        "    3.63577554    3.5708712     3.50824319    3.44777382    3.3893534\n",
        "    3.33287953    3.27825653    3.2253949     3.17421079    3.12462561\n",
        "    3.0765656     3.02996146    2.98474803    2.94086399    2.89825156\n",
        "    2.85685626    2.81662669    2.77751428    2.73947316    2.70245989\n",
        "    2.66643339    2.63135471    2.59718694    2.56389505    2.5314458\n",
        "    2.49980759    2.4689504     2.43884566    2.40946617    2.38078605\n",
        "    2.35278062    2.32542635    2.29870079    2.27258252    2.24705106\n",
        "    2.22208686    2.19767123    2.17378629    2.1504149     2.1275407\n",
        "    2.10514799    2.08322171    2.06174745  100.        ]\n",
        "[  2.20000000e+02   5.12500000e+01   2.24691358e+01   1.25781250e+01\n",
        "   8.03200000e+00   5.57098765e+00   4.08996252e+00   3.12988281e+00\n",
        "   2.47218412e+00   2.00200000e+00   1.65425859e+00   1.38985340e+00\n",
        "   1.18413221e+00   1.02092878e+00   8.89283951e-01   7.81555176e-01\n",
        "   6.92280983e-01   6.17474470e-01   5.54170088e-01   5.00125000e-01\n",
        "   4.53617577e-01   4.13308517e-01   3.78143303e-01   3.47282504e-01\n",
        "   3.20051200e-01   2.95901754e-01   2.74386056e-01   2.55134579e-01\n",
        "   2.37840406e-01   2.22246914e-01   2.08138202e-01   1.95331573e-01\n",
        "   1.83671594e-01   1.73025347e-01   1.63278634e-01   1.54332895e-01\n",
        "   1.46102709e-01   1.38513747e-01   1.31501084e-01   1.25007813e-01\n",
        "   1.18983877e-01   1.13385112e-01   1.08172427e-01   1.03311121e-01\n",
        "   9.87703094e-02   9.45224252e-02   9.05428039e-02   8.68093232e-02\n",
        "   8.33020949e-02   8.00032000e-02   7.68964588e-02   7.39672324e-02\n",
        "   7.12022499e-02   6.85894577e-02   6.61178881e-02   6.37775439e-02\n",
        "   6.15592969e-02   5.94547994e-02   5.74564049e-02   5.55570988e-02\n",
        "   5.37504367e-02   5.20304898e-02   5.03917962e-02   4.88293171e-02\n",
        "   4.73383985e-02   4.59147363e-02   4.45543451e-02   4.32535305e-02\n",
        "   4.20088639e-02   4.08171595e-02   3.96754548e-02   3.85809911e-02\n",
        "   3.75311978e-02   3.65236765e-02   3.55561877e-02   3.46266383e-02\n",
        "   3.37330702e-02   3.28736501e-02   3.20466599e-02   3.12504883e-02\n",
        "   3.04836227e-02   2.97446422e-02   2.90322112e-02   2.83450729e-02\n",
        "   2.76820440e-02   2.70420098e-02   2.64239189e-02   2.58267798e-02\n",
        "   2.52496560e-02   2.46916629e-02   2.41519642e-02   2.36297688e-02\n",
        "   2.31243279e-02   2.26349325e-02   2.21609104e-02   2.17016244e-02\n",
        "   2.12564699e-02   2.08248732e-02   1.99989879e+00]\n"
       ]
      }
     ],
     "prompt_number": 129
    },
    {
     "cell_type": "code",
     "collapsed": false,
     "input": [],
     "language": "python",
     "metadata": {},
     "outputs": []
    }
   ],
   "metadata": {}
  }
 ]
}