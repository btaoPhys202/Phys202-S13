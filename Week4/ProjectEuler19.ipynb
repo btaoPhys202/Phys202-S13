{
 "metadata": {
  "name": "ProjectEuler19"
 },
 "nbformat": 3,
 "nbformat_minor": 0,
 "worksheets": [
  {
   "cells": [
    {
     "cell_type": "markdown",
     "metadata": {},
     "source": [
      "Project Euler Problem 19\n",
      "=\n",
      "Counting Sundays\n",
      "-\n",
      "\n",
      "You are given the following information, but you may prefer to do some research for yourself:\n",
      "\n",
      "    * 1 Jan 1900 was a Monday.\n",
      "\n",
      "    * Thirty days has September,\n",
      "\n",
      "      April, June and November.\n",
      "\n",
      "      All the rest have thirty-one,\n",
      "\n",
      "      Saving February alone,\n",
      "\n",
      "      Which has twenty-eight, rain or shine.\n",
      "\n",
      "      And on leap years, twenty-nine.\n",
      "\n",
      "    * A leap year occurs on any year evenly divisible by 4, but not on a century unless it is \n",
      "      divisible by 400.\n",
      "\n",
      "How many Sundays fell on the first of the month during the twentieth century (1 Jan 1901 to 31 Dec 2000)?"
     ]
    },
    {
     "cell_type": "code",
     "collapsed": false,
     "input": [
      "regularyear = [range(1,32),range(1,29),range(1,32),range(1,31),range(1,32),range(1,31),range(1,32),range(1,32),range(1,31),range(1,32),range(1,31),range(1,32)]\n",
      "regularyear1 = []\n",
      "for x in regularyear:\n",
      "    for y in x:\n",
      "        regularyear1.append(int(y))\n",
      "        \n",
      "leapyear = [range(1,32),range(1,30),range(1,32),range(1,31),range(1,32),range(1,31),range(1,32),range(1,32),range(1,31),range(1,32),range(1,31),range(1,32)]\n",
      "leapyear1 = []\n",
      "for b in leapyear:\n",
      "    for c in b:\n",
      "        leapyear1.append(int(c))\n",
      "        \n",
      "every4years = [regularyear1,regularyear1,regularyear1,leapyear1]\n",
      "every4years1 = []\n",
      "for r in every4years:\n",
      "    for q in r:\n",
      "        every4years1.append(int(q))\n",
      "\n",
      "century = [every4years1] * 25\n",
      "century1 = []\n",
      "for k in century:\n",
      "    for m in k:\n",
      "        century1.append(int(m))\n",
      "        \n",
      "CenturySundays = century1[::7]\n",
      "\n",
      "\n",
      "print \"Number of Sundays in the 20th Century:\", CenturySundays.count(1)"
     ],
     "language": "python",
     "metadata": {},
     "outputs": [
      {
       "output_type": "stream",
       "stream": "stdout",
       "text": [
        "Number of Sundays in the 20th Century: 171\n"
       ]
      }
     ],
     "prompt_number": 54
    },
    {
     "cell_type": "code",
     "collapsed": false,
     "input": [],
     "language": "python",
     "metadata": {},
     "outputs": []
    }
   ],
   "metadata": {}
  }
 ]
}