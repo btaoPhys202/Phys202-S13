{
 "metadata": {
  "name": "ProjectEuler25"
 },
 "nbformat": 3,
 "nbformat_minor": 0,
 "worksheets": [
  {
   "cells": [
    {
     "cell_type": "markdown",
     "metadata": {},
     "source": [
      "Project Euler Problem #25\n",
      "=\n",
      "\n",
      "1,000 Digit Fibonacci Number\n",
      "-\n",
      "\n",
      "The fibonacci sequence is defined by the recurrence relation:\n",
      "\n",
      "$F_n=F_{n-1}+F_{n-2}$, where $F_1=1$ and $F_2=1$.\n",
      "\n",
      "Hence the first 12 terms will be:\n",
      "\n",
      "$F_1$ = 1\n",
      "\n",
      "$F_2$ = 1\n",
      "\n",
      "$F_3$ = 2\n",
      "\n",
      "$F_4$ = 3\n",
      "\n",
      "$F_5$ = 5\n",
      "\n",
      "$F_6$ = 8\n",
      "\n",
      "$F_7$ = 13\n",
      "\n",
      "$F_8$ = 21\n",
      "\n",
      "$F_9$ = 34\n",
      "\n",
      "$F_{10}$ = 55\n",
      "\n",
      "$F_{11}$ = 89\n",
      "\n",
      "$F_{12}$ = 144\n",
      "\n",
      "The 12th term, $F_{12}$, is the first to contain three digits.\n",
      "\n",
      "What is the first term in the Fibonacci sequence that contains 1,000 digits?"
     ]
    },
    {
     "cell_type": "code",
     "collapsed": false,
     "input": [
      "a = 0\n",
      "b = 1 #Choosing these starting values to satisfy the first terms of the sequence.\n",
      "Fn = 1 #Allowing Fn to equal the first value of the sequence\n",
      "n = 1\n",
      "\n",
      "while len(str(Fn)) < 1000:\n",
      "    Fn = a + b #The recurrence relation given.\n",
      "    a = b\n",
      "    b = Fn #Changes the values for each iteration of the loop.\n",
      "    n = n + 1\n",
      "\n",
      "print \"The first term that will have 1,000 digits will be term number \", n"
     ],
     "language": "python",
     "metadata": {},
     "outputs": [
      {
       "output_type": "stream",
       "stream": "stdout",
       "text": [
        "The first term that will have 1,000 digits will be term number  4782\n"
       ]
      }
     ],
     "prompt_number": 21
    },
    {
     "cell_type": "code",
     "collapsed": false,
     "input": [
      "#Test Case: If we want the term that is three digits long, we'll use 3 as the upper limit instead of 1000.\n",
      "#The test case should return 12, according to the example given by the problem.\n",
      "\n",
      "a = 0\n",
      "b = 1 #Choosing these starting values to satisfy the first terms of the sequence.\n",
      "Fn = 1 #Allowing Fn to equal the first value of the sequence\n",
      "n = 1\n",
      "\n",
      "while len(str(Fn)) < 3:\n",
      "    Fn = a + b #The recurrence relation given.\n",
      "    a = b\n",
      "    b = Fn #Changes the values for each iteration of the loop.\n",
      "    n = n + 1\n",
      "\n",
      "print n"
     ],
     "language": "python",
     "metadata": {},
     "outputs": [
      {
       "output_type": "stream",
       "stream": "stdout",
       "text": [
        "12\n"
       ]
      }
     ],
     "prompt_number": 18
    },
    {
     "cell_type": "code",
     "collapsed": false,
     "input": [],
     "language": "python",
     "metadata": {},
     "outputs": []
    }
   ],
   "metadata": {}
  }
 ]
}