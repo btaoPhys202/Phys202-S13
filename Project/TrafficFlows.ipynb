{
 "metadata": {
  "name": "TrafficFlows"
 },
 "nbformat": 3,
 "nbformat_minor": 0,
 "worksheets": [
  {
   "cells": [
    {
     "cell_type": "markdown",
     "metadata": {},
     "source": [
      "CA184\n",
      "=\n",
      "\n",
      "Here, I'll be creating the possible locations, called \"street.\" As well as the logic for the CA184 ruleset."
     ]
    },
    {
     "cell_type": "code",
     "collapsed": false,
     "input": [
      "#Test case with length 40 and 5 cars:\n",
      "import numpy\n",
      "L = 40 #Street length\n",
      "street = [False] * L #Using a matrix for positions. False represents no car\n",
      "cars = 5 #number of cars\n",
      "vmax = 10 #maximum velocity\n",
      "numpy.random.seed(None) #setting the seed of the random number generator to 'None'\n",
      "\n",
      "for k in range(cars):\n",
      "    i = numpy.random.random(1)*39 #position\n",
      "    v = numpy.random.random(1)*vmax #velocity\n",
      "    street.insert(i, v.tolist()) #place car with velocity v before position i\n",
      "    street.pop(i+1) #remove the old position i\n",
      "#Note that the program returns the old position, so be careful.\n",
      "\n",
      "print street\n",
      "\n",
      "pos = []\n",
      "vel = []\n",
      "for q in street:\n",
      "    if q != False:\n",
      "        pos.append(street.index(q)) #build a position array\n",
      "        vel.append(q) #build a velocity array\n",
      "        \n",
      "print pos\n",
      "print vel"
     ],
     "language": "python",
     "metadata": {},
     "outputs": [
      {
       "output_type": "stream",
       "stream": "stdout",
       "text": [
        "[False, False, False, False, False, False, False, False, False, False, False, False, False, False, False, False, False, False, False, False, False, False, False, False, [2.5410425120684], False, False, False, [7.893103044574436], [2.79158820838651], False, [1.1087988238955038], False, [6.146225363398907], False, False, False, False, False, False]\n",
        "[24, 28, 29, 31, 33]\n",
        "[[2.5410425120684], [7.893103044574436], [2.79158820838651], [1.1087988238955038], [6.146225363398907]]\n"
       ]
      }
     ],
     "prompt_number": 138
    },
    {
     "cell_type": "code",
     "collapsed": false,
     "input": [
      "def CA184(pos,vel,L): #position, velocity, length\n",
      "    \"\"\"Takes position(pos),velocity(vel),and length(L) to create a new array that follows the CA184 Ruleset\"\"\"\n",
      "    for m in range(cars):\n",
      "        spaces = []\n",
      "        start = street.index(pos)\n",
      "        for r in street[start:]:\n",
      "            while r == False:\n",
      "                spaces.append(1) #trying to get a count of the spaces between cars\n",
      "        g == len(spaces) #g is the number of spaces before the next car\n",
      "        if g == 0:\n",
      "            newvel=0\n",
      "        if vel>g:\n",
      "            newvel=g\n",
      "        if vel<g and vel<vmax:\n",
      "            newvel=vel+1\n",
      "        else:\n",
      "            newvel=vel\n",
      "        newpos=pos+newvel\n",
      "        print newpos\n",
      "        print newvel"
     ],
     "language": "python",
     "metadata": {},
     "outputs": [],
     "prompt_number": 151
    },
    {
     "cell_type": "code",
     "collapsed": false,
     "input": [
      "CA184(pos,vel,40)"
     ],
     "language": "python",
     "metadata": {},
     "outputs": [
      {
       "ename": "ValueError",
       "evalue": "[24, 28, 29, 31, 33] is not in list",
       "output_type": "pyerr",
       "traceback": [
        "\u001b[1;31m---------------------------------------------------------------------------\u001b[0m\n\u001b[1;31mValueError\u001b[0m                                Traceback (most recent call last)",
        "\u001b[1;32m<ipython-input-152-873d17a49ba4>\u001b[0m in \u001b[0;36m<module>\u001b[1;34m()\u001b[0m\n\u001b[1;32m----> 1\u001b[1;33m \u001b[0mCA184\u001b[0m\u001b[1;33m(\u001b[0m\u001b[0mpos\u001b[0m\u001b[1;33m,\u001b[0m\u001b[0mvel\u001b[0m\u001b[1;33m,\u001b[0m\u001b[1;36m40\u001b[0m\u001b[1;33m)\u001b[0m\u001b[1;33m\u001b[0m\u001b[0m\n\u001b[0m",
        "\u001b[1;32m<ipython-input-151-f98c21118e94>\u001b[0m in \u001b[0;36mCA184\u001b[1;34m(pos, vel, L)\u001b[0m\n\u001b[0;32m      3\u001b[0m     \u001b[1;32mfor\u001b[0m \u001b[0mm\u001b[0m \u001b[1;32min\u001b[0m \u001b[0mrange\u001b[0m\u001b[1;33m(\u001b[0m\u001b[0mcars\u001b[0m\u001b[1;33m)\u001b[0m\u001b[1;33m:\u001b[0m\u001b[1;33m\u001b[0m\u001b[0m\n\u001b[0;32m      4\u001b[0m         \u001b[0mspaces\u001b[0m \u001b[1;33m=\u001b[0m \u001b[1;33m[\u001b[0m\u001b[1;33m]\u001b[0m\u001b[1;33m\u001b[0m\u001b[0m\n\u001b[1;32m----> 5\u001b[1;33m         \u001b[0mstart\u001b[0m \u001b[1;33m=\u001b[0m \u001b[0mstreet\u001b[0m\u001b[1;33m.\u001b[0m\u001b[0mindex\u001b[0m\u001b[1;33m(\u001b[0m\u001b[0mpos\u001b[0m\u001b[1;33m)\u001b[0m\u001b[1;33m\u001b[0m\u001b[0m\n\u001b[0m\u001b[0;32m      6\u001b[0m         \u001b[1;32mfor\u001b[0m \u001b[0mr\u001b[0m \u001b[1;32min\u001b[0m \u001b[0mstreet\u001b[0m\u001b[1;33m[\u001b[0m\u001b[0mstart\u001b[0m\u001b[1;33m:\u001b[0m\u001b[1;33m]\u001b[0m\u001b[1;33m:\u001b[0m\u001b[1;33m\u001b[0m\u001b[0m\n\u001b[0;32m      7\u001b[0m             \u001b[1;32mwhile\u001b[0m \u001b[0mr\u001b[0m \u001b[1;33m==\u001b[0m \u001b[0mFalse\u001b[0m\u001b[1;33m:\u001b[0m\u001b[1;33m\u001b[0m\u001b[0m\n",
        "\u001b[1;31mValueError\u001b[0m: [24, 28, 29, 31, 33] is not in list"
       ]
      }
     ],
     "prompt_number": 152
    },
    {
     "cell_type": "markdown",
     "metadata": {},
     "source": [
      "STCA\n",
      "=\n",
      "\n",
      "Here, I attempt to make a function that follows the STCA ruleset."
     ]
    },
    {
     "cell_type": "code",
     "collapsed": false,
     "input": [
      "def STCA(pos,vel,L): #position, velocity, length\n",
      "    \"\"\"Takes position(pos),velocity(vel),and length(L) to create a new array that follows the STCA Ruleset\"\"\"\n",
      "    for m in cars:\n",
      "        g = \n",
      "        if g == 0:\n",
      "            vel==0\n",
      "        if vel>g:\n",
      "            vel==g\n",
      "        if vel<g and vel<vmax:\n",
      "            vel=vel+1\n",
      "        if vel > 0: #Not exactly sure how to incorporate the probability here\n",
      "            vel = vel-1\n",
      "        pos=pos+vel"
     ],
     "language": "python",
     "metadata": {},
     "outputs": []
    },
    {
     "cell_type": "markdown",
     "metadata": {},
     "source": [
      "ASEP\n",
      "=\n",
      "\n",
      "This creates a function using the ASEP algorithm to allow cars to move individually."
     ]
    },
    {
     "cell_type": "code",
     "collapsed": false,
     "input": [
      "from random import choice #found when looking through random documentation at http://docs.python.org/2/library/random.html\n",
      "\n",
      "def ASEP(pos,vel,L):\n",
      "    \"\"\"Takes position(pos),velocity(vel), and length(L) of a random car to create a new array of positions following ASEP rules.\"\"\"\n",
      "    a = choice(vel)\n",
      "    g = \n",
      "    if g == 0:\n",
      "        vel = 0\n",
      "    if vel>g:\n",
      "        vel = g\n",
      "    if vel<g and v<vmax:\n",
      "        vel = vel + 1\n",
      "    pos = pos + vel"
     ],
     "language": "python",
     "metadata": {},
     "outputs": [],
     "prompt_number": 64
    },
    {
     "cell_type": "code",
     "collapsed": false,
     "input": [],
     "language": "python",
     "metadata": {},
     "outputs": []
    }
   ],
   "metadata": {}
  }
 ]
}