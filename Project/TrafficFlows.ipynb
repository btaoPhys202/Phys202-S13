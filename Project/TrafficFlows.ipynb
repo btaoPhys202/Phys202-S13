{
 "metadata": {
  "name": "TrafficFlows"
 },
 "nbformat": 3,
 "nbformat_minor": 0,
 "worksheets": [
  {
   "cells": [
    {
     "cell_type": "markdown",
     "metadata": {},
     "source": [
      "CA184\n",
      "-"
     ]
    },
    {
     "cell_type": "code",
     "collapsed": false,
     "input": [
      "def CA184(car,length):\n",
      "    for i in car:\n",
      "        g = #number of empty spaces\n",
      "        if g = 0:\n",
      "            v=0\n",
      "        if v>g:\n",
      "            v=g\n",
      "        if v<g and v<vmax:\n",
      "            v=v+1\n",
      "        else:\n",
      "            v=v\n",
      "        p=p+v"
     ],
     "language": "python",
     "metadata": {},
     "outputs": []
    }
   ],
   "metadata": {}
  }
 ]
}