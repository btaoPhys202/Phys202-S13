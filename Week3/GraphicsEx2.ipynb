{
 "metadata": {
  "name": "GraphicsEx2"
 },
 "nbformat": 3,
 "nbformat_minor": 0,
 "worksheets": [
  {
   "cells": [
    {
     "cell_type": "markdown",
     "metadata": {},
     "source": [
      "Question 1\n",
      "="
     ]
    },
    {
     "cell_type": "markdown",
     "metadata": {},
     "source": [
      "Part A\n",
      "-"
     ]
    },
    {
     "cell_type": "markdown",
     "metadata": {},
     "source": [
      "$\\psi_k(x)= A\\left(\\frac{ik-a\\tanh(ax)}{ik+a}\\right)e^{+ikx}$\n"
     ]
    },
    {
     "cell_type": "markdown",
     "metadata": {},
     "source": [
      "Part B\n",
      "-"
     ]
    },
    {
     "cell_type": "markdown",
     "metadata": {},
     "source": [
      "$v_1=m_2\\sqrt{\\frac{2G}{M}\\left(\\frac{1}{r}-\\frac{1}{r_0}\\right)}$"
     ]
    },
    {
     "cell_type": "markdown",
     "metadata": {},
     "source": [
      "Part C\n",
      "-"
     ]
    },
    {
     "cell_type": "markdown",
     "metadata": {},
     "source": [
      "$f(\\theta)=\\frac{\\hbar}{p}\\displaystyle\\sum_{{\\ell}=0}^{\\infty}(2\\ell+1)e^{i\\delta_\\ell}\\sin\\delta_{\\ell}P_{\\ell}(\\cos\\theta)$"
     ]
    },
    {
     "cell_type": "markdown",
     "metadata": {},
     "source": [
      "Part D\n",
      "-"
     ]
    },
    {
     "cell_type": "markdown",
     "metadata": {},
     "source": [
      "$\\frac{d\\sigma}{d\\Omega}=\\frac{k\\pi^2(\\pi-\\theta)}{mu_0^2\\theta^2(2\\pi-\\theta)^2\\sin\\theta}$"
     ]
    },
    {
     "cell_type": "markdown",
     "metadata": {},
     "source": [
      "Part E\n",
      "-"
     ]
    },
    {
     "cell_type": "markdown",
     "metadata": {},
     "source": [
      "$\\langle f\\rangle = \\frac{1}{\\tau}\\int_0^{\\tau}f(t)dt$"
     ]
    },
    {
     "cell_type": "markdown",
     "metadata": {},
     "source": [
      "Part F\n",
      "-"
     ]
    },
    {
     "cell_type": "markdown",
     "metadata": {},
     "source": [
      "$\\Omega_s=\\omega\\frac{\\sin\\alpha}{\\sin\\theta}=\\frac{L}{\\lambda_1}=\\omega\\frac{\\sqrt{\\lambda_3^2+(\\lambda_1^2-\\lambda_3^2)\\sin\\alpha}}{\\lambda_1}$"
     ]
    },
    {
     "cell_type": "markdown",
     "metadata": {},
     "source": [
      "Question 2\n",
      "="
     ]
    },
    {
     "cell_type": "code",
     "collapsed": false,
     "input": [
      "x = arange(-pi,pi,0.01*pi)\n",
      "U = -((1/cosh(x))**2)"
     ],
     "language": "python",
     "metadata": {},
     "outputs": [],
     "prompt_number": 41
    },
    {
     "cell_type": "code",
     "collapsed": false,
     "input": [
      "plot(x,U, linewidth=2, label=\"$U(x)$\")\n",
      "xlabel(\"$x(rad)$\",fontsize=14)\n",
      "ylabel(\"$U(x),\\psi^2(x)$\",fontsize=14)\n",
      "\n",
      "legend()\n",
      "show()"
     ],
     "language": "python",
     "metadata": {},
     "outputs": [
      {
       "output_type": "display_data",
       "png": "[encoded data removed]"
      }
     ],
     "prompt_number": 49
    },
    {
     "cell_type": "markdown",
     "metadata": {},
     "source": [
      "Finished plotting U(x). Need to finish framing the view and plotting the different values of k."
     ]
    },
    {
     "cell_type": "code",
     "collapsed": false,
     "input": [],
     "language": "python",
     "metadata": {},
     "outputs": []
    }
   ],
   "metadata": {}
  }
 ]
}