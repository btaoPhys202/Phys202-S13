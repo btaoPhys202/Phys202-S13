{
 "metadata": {
  "name": "GraphicsEx2"
 },
 "nbformat": 3,
 "nbformat_minor": 0,
 "worksheets": [
  {
   "cells": [
    {
     "cell_type": "markdown",
     "metadata": {},
     "source": [
      "Question 1\n",
      "="
     ]
    },
    {
     "cell_type": "markdown",
     "metadata": {},
     "source": [
      "Part A\n",
      "-"
     ]
    },
    {
     "cell_type": "markdown",
     "metadata": {},
     "source": [
      "$\\psi_k(x)= A\\left(\\frac{ik-a\\tanh(ax)}{ik+a}\\right)e^{+ikx}$\n"
     ]
    },
    {
     "cell_type": "markdown",
     "metadata": {},
     "source": [
      "Part B\n",
      "-"
     ]
    },
    {
     "cell_type": "markdown",
     "metadata": {},
     "source": [
      "$v_1=m_2\\sqrt{\\frac{2G}{M}\\left(\\frac{1}{r}-\\frac{1}{r_0}\\right)}$"
     ]
    },
    {
     "cell_type": "markdown",
     "metadata": {},
     "source": [
      "Part C\n",
      "-"
     ]
    },
    {
     "cell_type": "markdown",
     "metadata": {},
     "source": [
      "$f(\\theta)=\\frac{\\hbar}{p}\\displaystyle\\sum_{{\\ell}=0}^{\\infty}(2\\ell+1)e^{i\\delta_\\ell}\\sin\\delta_{\\ell}P_{\\ell}(\\cos\\theta)$"
     ]
    },
    {
     "cell_type": "markdown",
     "metadata": {},
     "source": [
      "Part D\n",
      "-"
     ]
    },
    {
     "cell_type": "markdown",
     "metadata": {},
     "source": [
      "$\\frac{d\\sigma}{d\\Omega}=\\frac{k\\pi^2(\\pi-\\theta)}{mu_0^2\\theta^2(2\\pi-\\theta)^2\\sin\\theta}$"
     ]
    },
    {
     "cell_type": "markdown",
     "metadata": {},
     "source": [
      "Part E\n",
      "-"
     ]
    },
    {
     "cell_type": "markdown",
     "metadata": {},
     "source": [
      "$\\langle f\\rangle = \\frac{1}{\\tau}\\int_0^{\\tau}f(t)dt$"
     ]
    },
    {
     "cell_type": "markdown",
     "metadata": {},
     "source": [
      "Part F\n",
      "-"
     ]
    },
    {
     "cell_type": "markdown",
     "metadata": {},
     "source": [
      "$\\Omega_s=\\omega\\frac{\\sin\\alpha}{\\sin\\theta}=\\frac{L}{\\lambda_1}=\\omega\\frac{\\sqrt{\\lambda_3^2+(\\lambda_1^2-\\lambda_3^2)\\sin\\alpha}}{\\lambda_1}$"
     ]
    },
    {
     "cell_type": "markdown",
     "metadata": {},
     "source": [
      "Question 2\n",
      "="
     ]
    },
    {
     "cell_type": "code",
     "collapsed": false,
     "input": [
      "x = arange(-pi,pi,0.01*pi)\n",
      "U = -((1/cosh(x))**2)\n",
      "\n",
      "i = 1j\n",
      "A = ((-tanh(x))/(1))\n",
      "B = A * A.conj()\n",
      "\n",
      "C = (((i*0.5)-tanh(x))/((i*0.5)+1))\n",
      "D = C * C.conj()\n",
      "\n",
      "E = (((i)-tanh(x))/((i)+1))\n",
      "F = E * E.conj()\n",
      "\n",
      "G = (((i*2)-tanh(x))/((i*2)+1))\n",
      "H = G * G.conj()"
     ],
     "language": "python",
     "metadata": {},
     "outputs": [],
     "prompt_number": 116
    },
    {
     "cell_type": "code",
     "collapsed": false,
     "input": [
      "plot(x,U, linewidth=2, label=\"$U(x)$\")\n",
      "plot(x,B, linewidth=2, label=\"$\\psi^2,k=0.0$\", color='r')\n",
      "plot(x,D, linewidth=2, label='$\\psi^2, k=0.5$', color='r', linestyle=\"--\")\n",
      "plot(x,F, linewidth=2, label='$\\psi^2, k=1.0$', color='r', linestyle=\"-.\")\n",
      "plot(x,H, linewidth=2, label='$\\psi^2, k=2.0$', color='r', linestyle=\":\")\n",
      "xlabel(\"$x(rad)$\",fontsize=14)\n",
      "ylabel(\"$U(x),\\psi^2(x)$\",fontsize=14)\n",
      "\n",
      "xmin, xmax = xlim(-pi,pi)\n",
      "ymin, ymax = ylim(-1.2,1.2)\n",
      "xticks( arange(-pi,pi+0.5,pi/2), ('$-\\pi$',r'$-\\frac{\\pi}{2}$','0',r'$+\\frac{\\pi}{2}$','$+\\pi$'))\n",
      "grid(True)\n",
      "legend()\n",
      "show()"
     ],
     "language": "python",
     "metadata": {},
     "outputs": [
      {
       "output_type": "display_data",
       "png": "[encoded data removed]"
      }
     ],
     "prompt_number": 133
    },
    {
     "cell_type": "markdown",
     "metadata": {},
     "source": []
    },
    {
     "cell_type": "code",
     "collapsed": false,
     "input": [],
     "language": "python",
     "metadata": {},
     "outputs": []
    }
   ],
   "metadata": {}
  }
 ]
}