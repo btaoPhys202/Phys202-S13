{
 "metadata": {
  "name": "ProjectEuler17"
 },
 "nbformat": 3,
 "nbformat_minor": 0,
 "worksheets": [
  {
   "cells": [
    {
     "cell_type": "markdown",
     "metadata": {},
     "source": [
      "Project Euler 17\n",
      "=\n",
      "\n",
      "Number Letter Counts\n",
      "-\n",
      "\n",
      "If the numbers 1 to 5 are written out in words: one, two, three, four, five, then there are 3 + 3 + 5 + 4 + 4 = 19 letters used in total.\n",
      "\n",
      "If all the numbers from 1 to 1000 (one thousand) inclusive were written out in words, how many letters would be used?\n"
     ]
    },
    {
     "cell_type": "code",
     "collapsed": false,
     "input": [
      "#I'll split up the tens places:\n",
      "single = {0:0,1:3,2:3,3:5,4:4,5:4,6:3,7:5,8:5,9:4}\n",
      "teens = {10:3,11:6,12:6,13:8,14:8,15:7,16:7,17:9,18:8,19:8}\n",
      "double = {20:6,30:6,40:5,50:5,60:5,70:7,80:6,90:6} #10 is taken care of above\n",
      "hundred = {100:10,200:10,300:12,400:11,500:11,600:10,700:12,800:12,900:11}\n",
      "thousand = {1000:11} #1000\n",
      "\n",
      "total = 0\n",
      "\n",
      "for i in range(1000):\n",
      "    \n"
     ],
     "language": "python",
     "metadata": {},
     "outputs": [
      {
       "output_type": "stream",
       "stream": "stdout",
       "text": [
        "<built-in method values of dict object at 0x7fe1a80e8310>\n"
       ]
      }
     ],
     "prompt_number": 12
    },
    {
     "cell_type": "code",
     "collapsed": false,
     "input": [],
     "language": "python",
     "metadata": {},
     "outputs": []
    }
   ],
   "metadata": {}
  }
 ]
}