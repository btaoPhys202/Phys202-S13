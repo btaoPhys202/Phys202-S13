{
 "metadata": {
  "name": "ProjectEuler20"
 },
 "nbformat": 3,
 "nbformat_minor": 0,
 "worksheets": [
  {
   "cells": [
    {
     "cell_type": "markdown",
     "metadata": {},
     "source": [
      "Project Euler Problem 20\n",
      "=\n",
      "\n",
      "Factorial Digit Sum\n",
      "-\n",
      "\n",
      "n! means n x (n-1) ... x 3 x 2 x 1\n",
      "\n",
      "For example, 10! = 10 x 9 x ... x 3 x 2 x 1 = 3628800,\n",
      "and the sum of the digits in the number 10! is 3 + 6 + 2 + 8 + 8 + 0 + 0 = 27.\n",
      "\n",
      "Find the sum of the digits in the number 100!"
     ]
    },
    {
     "cell_type": "code",
     "collapsed": false,
     "input": [
      "def facdigitsum(n):\n",
      "    fac = math.factorial(n)\n",
      "    fac1 = str(fac)\n",
      "    facarray = []\n",
      "    for i in fac1:\n",
      "        facarray.append(int(i))\n",
      "        \n",
      "    print sum(facarray)"
     ],
     "language": "python",
     "metadata": {},
     "outputs": [],
     "prompt_number": 4
    },
    {
     "cell_type": "code",
     "collapsed": false,
     "input": [
      "print facdigitsum(100)"
     ],
     "language": "python",
     "metadata": {},
     "outputs": [
      {
       "output_type": "stream",
       "stream": "stdout",
       "text": [
        "648\n",
        "None\n"
       ]
      }
     ],
     "prompt_number": 6
    },
    {
     "cell_type": "markdown",
     "metadata": {},
     "source": [
      "Test case:\n",
      "-\n",
      "\n",
      "Using the example from the problem, the sum of the digits in 10! should be 27."
     ]
    },
    {
     "cell_type": "code",
     "collapsed": false,
     "input": [
      "print facdigitsum(10)"
     ],
     "language": "python",
     "metadata": {},
     "outputs": [
      {
       "output_type": "stream",
       "stream": "stdout",
       "text": [
        "27\n",
        "None\n"
       ]
      }
     ],
     "prompt_number": 5
    },
    {
     "cell_type": "code",
     "collapsed": false,
     "input": [],
     "language": "python",
     "metadata": {},
     "outputs": []
    }
   ],
   "metadata": {}
  }
 ]
}