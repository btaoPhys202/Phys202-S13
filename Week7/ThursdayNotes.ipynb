{
 "metadata": {
  "name": "ThursdayNotes"
 },
 "nbformat": 3,
 "nbformat_minor": 0,
 "worksheets": [
  {
   "cells": [
    {
     "cell_type": "markdown",
     "metadata": {},
     "source": [
      "Euler's Method\n",
      "="
     ]
    },
    {
     "cell_type": "markdown",
     "metadata": {},
     "source": [
      "Example 1: Free Fall\n",
      "-"
     ]
    },
    {
     "cell_type": "code",
     "collapsed": false,
     "input": [
      "def V(t, V0, n): #(time, initial velocity, number of steps)\n",
      "      delt = (t) / float(n)\n",
      "      t0 = 0 #assuming time starts at t=0)\n",
      "      v = V0\n",
      "      for i in range(n):\n",
      "          v += delt * (v + ((-9.8)*t0))\n",
      "          t0 += delt\n",
      "      return v"
     ],
     "language": "python",
     "metadata": {},
     "outputs": [],
     "prompt_number": 28
    },
    {
     "cell_type": "code",
     "collapsed": false,
     "input": [
      "V(3,0,3)"
     ],
     "language": "python",
     "metadata": {},
     "outputs": [
      {
       "output_type": "pyout",
       "prompt_number": 29,
       "text": [
        "-39.2"
       ]
      }
     ],
     "prompt_number": 29
    },
    {
     "cell_type": "markdown",
     "metadata": {},
     "source": [
      "Exercise 1: Part (a)\n",
      "-\n",
      "\n",
      "Use Euler's method to solve the following with initial condition $y(0)=0$.\n",
      "\n",
      "$\\frac{dy}{dx}=x + 2y$\n",
      "\n",
      "Find the value of $y$ when $x = 1$, using a first step size of 0.25 then 0.02."
     ]
    },
    {
     "cell_type": "code",
     "collapsed": false,
     "input": [
      "def V(t, V0, n): #(time, initial velocity, number of steps)\n",
      "      delt = (t) / float(n)\n",
      "      t0 = 0 #assuming time starts at t=0)\n",
      "      v = V0\n",
      "      for i in range(n):\n",
      "          v += delt * (v + ((-9.8)*t0))\n",
      "          t0 += delt\n",
      "      return v"
     ],
     "language": "python",
     "metadata": {},
     "outputs": []
    }
   ],
   "metadata": {}
  }
 ]
}