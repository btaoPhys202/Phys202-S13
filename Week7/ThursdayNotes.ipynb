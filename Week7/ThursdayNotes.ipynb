{
 "metadata": {
  "name": "ThursdayNotes"
 },
 "nbformat": 3,
 "nbformat_minor": 0,
 "worksheets": [
  {
   "cells": [
    {
     "cell_type": "markdown",
     "metadata": {},
     "source": [
      "Euler's Method\n",
      "="
     ]
    },
    {
     "cell_type": "markdown",
     "metadata": {},
     "source": [
      "Example 1: Free Fall\n",
      "-"
     ]
    },
    {
     "cell_type": "code",
     "collapsed": false,
     "input": [
      "def V(t, V0, n): #(time, initial velocity, number of steps)\n",
      "      delt = (t) / float(n)\n",
      "      t0 = 0 #assuming time starts at t=0)\n",
      "      v = V0\n",
      "      for i in range(n):\n",
      "          v += delt * (v + ((-9.8)*t0))\n",
      "          t0 += delt\n",
      "      return v"
     ],
     "language": "python",
     "metadata": {},
     "outputs": [],
     "prompt_number": 28
    },
    {
     "cell_type": "code",
     "collapsed": false,
     "input": [
      "V(3,0,3)"
     ],
     "language": "python",
     "metadata": {},
     "outputs": [
      {
       "output_type": "pyout",
       "prompt_number": 29,
       "text": [
        "-39.2"
       ]
      }
     ],
     "prompt_number": 29
    },
    {
     "cell_type": "markdown",
     "metadata": {},
     "source": [
      "Exercise 1: Part (a)\n",
      "-\n",
      "\n",
      "Use Euler's method to solve the following with initial condition $y(0)=0$.\n",
      "\n",
      "$\\frac{dy}{dx}=x + 2y$\n",
      "\n",
      "Find the value of $y$ when $x = 1$, using a first step size of 0.25 then 0.02."
     ]
    },
    {
     "cell_type": "code",
     "collapsed": false,
     "input": [
      "def y(x, y0, n): #(time, initial velocity, number of steps)\n",
      "      delt = x/float(n)\n",
      "      x0 = 0 #assuming time starts at t=0)\n",
      "      y = y0\n",
      "      for i in range(n):\n",
      "          y += delt * (x+ (2*y))\n",
      "          x0 += delt\n",
      "      return y"
     ],
     "language": "python",
     "metadata": {},
     "outputs": [],
     "prompt_number": 4
    },
    {
     "cell_type": "code",
     "collapsed": false,
     "input": [
      "#For a step size of 0.25, the number of steps will be n=1/0.25=4\n",
      "y(1,0,4)"
     ],
     "language": "python",
     "metadata": {},
     "outputs": [
      {
       "output_type": "pyout",
       "prompt_number": 5,
       "text": [
        "2.03125"
       ]
      }
     ],
     "prompt_number": 5
    },
    {
     "cell_type": "code",
     "collapsed": false,
     "input": [
      "#For a step size of 0.02, the number of steps will be n=1/0.02=50\n",
      "y(1,0,50)"
     ],
     "language": "python",
     "metadata": {},
     "outputs": [
      {
       "output_type": "pyout",
       "prompt_number": 6,
       "text": [
        "3.0533416731391543"
       ]
      }
     ],
     "prompt_number": 6
    },
    {
     "cell_type": "markdown",
     "metadata": {},
     "source": [
      "Exercise 1: Part (b)\n",
      "-\n",
      "\n",
      "Plot the results from part (a) for the two different step sizes with the exact solution\n",
      "\n",
      "$y=0.25e^{2x}-0.5x-0.25$\n",
      "\n",
      "on one plot. Include a legend. Which step size gives a more accurate result?"
     ]
    },
    {
     "cell_type": "code",
     "collapsed": false,
     "input": [
      "x = arange(0,1.01,0.01)\n",
      "plot(x,y(x,0,4),color='green',lw=3,label=\"Euler's Method: 4-steps\")\n",
      "plot(x,y(x,0,50),color='blue',lw=3,label=\"Euler's Method: 50-steps\")\n",
      "plot(x,((0.25*(e**(2*x)))-(0.5*x)-0.25),color='red',lw=3,label=\"Exact Solution\")\n",
      "legend(loc=0)"
     ],
     "language": "python",
     "metadata": {},
     "outputs": [
      {
       "output_type": "pyout",
       "prompt_number": 10,
       "text": [
        "<matplotlib.legend.Legend at 0x2d8afd0>"
       ]
      },
      {
       "output_type": "display_data",
       "png": "[encoded data removed]"
      }
     ],
     "prompt_number": 10
    },
    {
     "cell_type": "code",
     "collapsed": false,
     "input": [],
     "language": "python",
     "metadata": {},
     "outputs": []
    }
   ],
   "metadata": {}
  }
 ]
}