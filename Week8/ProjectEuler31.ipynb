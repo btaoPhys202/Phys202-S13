{
 "metadata": {
  "name": "ProjectEuler31"
 },
 "nbformat": 3,
 "nbformat_minor": 0,
 "worksheets": [
  {
   "cells": [
    {
     "cell_type": "markdown",
     "metadata": {},
     "source": [
      "Coin Sums\n",
      "=\n",
      "\n",
      "Project Euler Problem 31\n",
      "-\n",
      "\n",
      "In England the currency is made up of pound and pence. The eight coins in general circulation are:\n",
      "\n",
      "1pence, 2pence, 5pence, 10pence, 20pence, 50pence, 1pound(100pence) and 2pound(200pence).\n",
      "\n",
      "How many different ways can 2pounds be made using any number of coins?"
     ]
    },
    {
     "cell_type": "code",
     "collapsed": false,
     "input": [
      "coins = (1,2,5,10,20,50,100,200)\n",
      "#a + 2b + 5c + 10d + 20f + 50g + 100h + 200k = 200\n",
      "#If k = 1, then a=b=c=d=f=g=h=0. So we can take k out as long as we add 1 to the final sum.\n"
     ],
     "language": "python",
     "metadata": {},
     "outputs": []
    }
   ],
   "metadata": {}
  }
 ]
}