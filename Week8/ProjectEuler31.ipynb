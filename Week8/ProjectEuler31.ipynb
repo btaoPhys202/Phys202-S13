{
 "metadata": {
  "name": "ProjectEuler31"
 },
 "nbformat": 3,
 "nbformat_minor": 0,
 "worksheets": [
  {
   "cells": [
    {
     "cell_type": "markdown",
     "metadata": {},
     "source": [
      "Coin Sums\n",
      "=\n",
      "\n",
      "Project Euler Problem 31\n",
      "-\n",
      "\n",
      "In England the currency is made up of pound and pence. The eight coins in general circulation are:\n",
      "\n",
      "1pence, 2pence, 5pence, 10pence, 20pence, 50pence, 1pound(100pence) and 2pound(200pence).\n",
      "\n",
      "How many different ways can 2pounds be made using any number of coins?"
     ]
    },
    {
     "cell_type": "code",
     "collapsed": false,
     "input": [
      "\n",
      "#a + 2b + 5c + 10d + 20f + 50g + 100h + 200k = 200\n",
      "#If k = 1, then a=b=c=d=f=g=h=0. So we can take k out as long as we add 1 to the final sum.\n",
      "\n",
      "a=range(201)\n",
      "b=range(101)\n",
      "c=range(41)\n",
      "d=range(21)\n",
      "f=range(11)\n",
      "g=range(5)\n",
      "h=range(3)\n",
      "\n",
      "possibles=[]\n",
      "\n",
      "for m1 in a:\n",
      "    for m2 in b:\n",
      "        for m3 in c:\n",
      "            for m4 in d:\n",
      "                for m5 in f:\n",
      "                    for m6 in g:\n",
      "                        for m7 in h:\n",
      "                            tot= a + 2*b + 5*c + 10*d + 20*f + 50*g + 100*h\n",
      "                            if tot==200:\n",
      "                                possibles.append(1)\n",
      "                                \n",
      "print len(possibles)+1"
     ],
     "language": "python",
     "metadata": {},
     "outputs": [
      {
       "ename": "SyntaxError",
       "evalue": "invalid syntax (<ipython-input-1-4a371195531a>, line 23)",
       "output_type": "pyerr",
       "traceback": [
        "\u001b[1;36m  File \u001b[1;32m\"<ipython-input-1-4a371195531a>\"\u001b[1;36m, line \u001b[1;32m23\u001b[0m\n\u001b[1;33m    if tot=200:\u001b[0m\n\u001b[1;37m          ^\u001b[0m\n\u001b[1;31mSyntaxError\u001b[0m\u001b[1;31m:\u001b[0m invalid syntax\n"
       ]
      }
     ],
     "prompt_number": 1
    },
    {
     "cell_type": "code",
     "collapsed": false,
     "input": [],
     "language": "python",
     "metadata": {},
     "outputs": []
    }
   ],
   "metadata": {}
  }
 ]
}