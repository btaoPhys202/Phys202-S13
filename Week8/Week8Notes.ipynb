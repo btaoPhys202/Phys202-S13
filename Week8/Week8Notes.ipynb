{
 "metadata": {
  "name": "Week8Notes"
 },
 "nbformat": 3,
 "nbformat_minor": 0,
 "worksheets": [
  {
   "cells": [
    {
     "cell_type": "markdown",
     "metadata": {},
     "source": [
      "Random Numbers and Monte Carlo Simulation\n",
      "="
     ]
    },
    {
     "cell_type": "markdown",
     "metadata": {},
     "source": [
      "Introducion\n",
      "-"
     ]
    },
    {
     "cell_type": "code",
     "collapsed": false,
     "input": [
      "import numpy.random\n",
      "numpy.random?"
     ],
     "language": "python",
     "metadata": {},
     "outputs": [],
     "prompt_number": 2
    },
    {
     "cell_type": "code",
     "collapsed": false,
     "input": [
      "#Setting and resetting the seed value.\n",
      "\n",
      "#Print 5 uniformly distrubuted numbers between 0 and 1\n",
      "print numpy.random.random(5)\n",
      "\n",
      "#print another 5 - should be different\n",
      "print numpy.random.random(5)"
     ],
     "language": "python",
     "metadata": {},
     "outputs": [
      {
       "output_type": "stream",
       "stream": "stdout",
       "text": [
        "[ 0.60570993  0.97184686  0.45377138  0.93650798  0.10412732]\n",
        "[ 0.29831759  0.80984716  0.280767    0.88237412  0.84037219]\n"
       ]
      }
     ],
     "prompt_number": 3
    },
    {
     "cell_type": "code",
     "collapsed": false,
     "input": [
      "#Now set the seed to something:\n",
      "numpy.random.seed(4242)\n",
      "\n",
      "#print 5 random numbers from the generator with this seed\n",
      "print \"Using seed = 4242:\"\n",
      "print numpy.random.random(5)"
     ],
     "language": "python",
     "metadata": {},
     "outputs": [
      {
       "output_type": "stream",
       "stream": "stdout",
       "text": [
        "Using seed = 4242:\n",
        "[ 0.32494949  0.94041458  0.91400794  0.28650938  0.78180262]\n"
       ]
      }
     ],
     "prompt_number": 4
    },
    {
     "cell_type": "code",
     "collapsed": false,
     "input": [
      "#Restore the seed to it's original 'None'\n",
      "numpy.random.seed(None)\n",
      "\n",
      "#print 5 more numbers using the new random seed\n",
      "print \"Using seed = None:\"\n",
      "print numpy.random.random(5)"
     ],
     "language": "python",
     "metadata": {},
     "outputs": [
      {
       "output_type": "stream",
       "stream": "stdout",
       "text": [
        "Using seed = None:\n",
        "[ 0.28501819  0.59023588  0.29084005  0.50063461  0.79564513]\n"
       ]
      }
     ],
     "prompt_number": 6
    },
    {
     "cell_type": "code",
     "collapsed": false,
     "input": [
      "#Reset the seed to 4242 and print again\n",
      "numpy.random.seed(4242)\n",
      "print \"Using seed = 4242, we should get the same number as before\"\n",
      "print numpy.random.random(5)"
     ],
     "language": "python",
     "metadata": {},
     "outputs": [
      {
       "output_type": "stream",
       "stream": "stdout",
       "text": [
        "Using seed = 4242, we should get the same number as before\n",
        "[ 0.32494949  0.94041458  0.91400794  0.28650938  0.78180262]\n"
       ]
      }
     ],
     "prompt_number": 7
    },
    {
     "cell_type": "markdown",
     "metadata": {},
     "source": [
      "NOTE: Plotting the normalized distribution of uniformly sampled random numbers in the range U[0,1], we should get a horizontal line at 1.0, with some random fluctuations. More samples will decrease the amount of fluctuations."
     ]
    },
    {
     "cell_type": "code",
     "collapsed": false,
     "input": [
      "#reset the seed\n",
      "numpy.random.seed(None)\n",
      "z = numpy.random.random(100000)\n",
      "hist(z,100,normed=True)\n",
      "plot([0,1.],[1.,1.],'r-',lw=3)\n",
      "xlabel(\"x\",fontsize=20)\n",
      "ylabel(\"Sample Probability\",fontsize=20)\n",
      "show()"
     ],
     "language": "python",
     "metadata": {},
     "outputs": [
      {
       "output_type": "display_data",
       "png": "[encoded data removed]"
      }
     ],
     "prompt_number": 9
    },
    {
     "cell_type": "markdown",
     "metadata": {},
     "source": [
      "This shows that every value of $x$ is equally as likely to be chosen."
     ]
    },
    {
     "cell_type": "markdown",
     "metadata": {},
     "source": [
      "Sampling From a Continuous Distribution\n",
      "-"
     ]
    },
    {
     "cell_type": "markdown",
     "metadata": {},
     "source": [
      "Recall \"Hit or Miss\" Monte Carlo integration from Week 5. We generated a pair of random numbers $(x_i,y_i)$ within a box around the function. Then, if $y_i$ is above the function, we throw it out. If it is less, we keep it. Using many iterations, we can \"fill\" the area of the box."
     ]
    },
    {
     "cell_type": "markdown",
     "metadata": {},
     "source": [
      "Similarly, rejection sampling uses $x_i$ samples as an approximation of the original function. A histogram normalized and plotted with the original function shows that both match up fairly well, with a little fluctuation. "
     ]
    },
    {
     "cell_type": "markdown",
     "metadata": {},
     "source": [
      "Cumulative Distribution Function (CDF)\n",
      "-\n",
      "\n",
      "CDF is simply the fraction of the probability distribution for a function $f(x)$ that lies below a particular value $x_i$ (the running integrated probability). $F(x)$ ranges from 0 at the lowe bound of the function's range to 1 at the upper bound. It can be computed analytically if a function can be integrated analytically, or numerically otherwise."
     ]
    },
    {
     "cell_type": "markdown",
     "metadata": {},
     "source": [
      "Example 1: Analytic Inverse CDF Transform\n",
      "-"
     ]
    },
    {
     "cell_type": "markdown",
     "metadata": {},
     "source": [
      "Consider the function:\n",
      "\n",
      "$f(x) = \\sin(x)/2$ for $0\\leq x\\leq \\pi$\n",
      "\n",
      "$f(x) = 0$ otherwise\n",
      "\n",
      "The cumulative distribution function $F(x)$ in this case is just the integral of $f(x)$ below the bound:\n",
      "\n"
     ]
    },
    {
     "cell_type": "code",
     "collapsed": false,
     "input": [
      "x = arange(0., pi+0.001, 0.01)\n",
      "f = lambda x: sin(x)/2.\n",
      "F = lambda x: (cos(0)-cos(x))/2.\n",
      "    \n",
      "plot(x,f(x),label='True distribution',lw=3)\n",
      "plot(x,F(x), label='Cumulative function',lw=3)\n",
      "    \n",
      "xlim(0,3.5)\n",
      "ylim(0,1.1)\n",
      "    \n",
      "legend(loc=0)\n",
      "show()"
     ],
     "language": "python",
     "metadata": {},
     "outputs": [
      {
       "output_type": "display_data",
       "png": "[encoded data removed]"
      }
     ],
     "prompt_number": 12
    },
    {
     "cell_type": "markdown",
     "metadata": {},
     "source": [
      "To produce a set of samples that has the same probability distribution as $f(x)$, generate $N$ uniform samples $z_i$, on U[0,1]. For each sample, $z_i$, compute $x_i = F^{-1}(z_i)$ gives:\n",
      "\n",
      "$F^{-1}(z) = \\cos^{-1}(\\cos(0)-2z)$\n",
      "\n",
      "Now let's implement that and plot that result:"
     ]
    },
    {
     "cell_type": "code",
     "collapsed": false,
     "input": [
      "#number of samples\n",
      "N = 10000\n",
      "\n",
      "#N random numbers between 0 and 1\n",
      "z = numpy.random.random_sample(N);\n",
      "\n",
      "#inverse CDF\n",
      "Finv = lambda z: arccos(cos(0)-2*z)\n",
      "    \n",
      "#sampled x values\n",
      "xsamples = Finv(z);\n",
      "\n",
      "#how do they compare to the original?\n",
      "hist(xsamples,50,normed=True,label=\"Sampled distribution\")\n",
      "plot(x,f(x),label='True distribution',lw=3,color='red')\n",
      "\n",
      "xlim(0,pi)\n",
      "ylim(0,0.7)\n",
      "\n",
      "legend(loc=0)\n",
      "show()"
     ],
     "language": "python",
     "metadata": {},
     "outputs": [
      {
       "output_type": "display_data",
       "png": "[encoded data removed]"
      }
     ],
     "prompt_number": 13
    },
    {
     "cell_type": "markdown",
     "metadata": {},
     "source": [
      "Exercise 1: Exponential Function- Analytic\n",
      "-"
     ]
    },
    {
     "cell_type": "markdown",
     "metadata": {},
     "source": [
      "Consider the denstiy function:\n",
      "\n",
      "$f(x)=\\lambda e^{\\lambda x}$ for $0 \\leq x \\leq \\infty$\n",
      "\n",
      "$f(x)=0$ otherwise\n",
      "\n",
      "(a) Determine the CDF $F(x)$ for this function analytically and invert it analytically to obtain $F^{-1}$.\n",
      "\n",
      "(b) Plot the function and CDF on the same plot over the range $0 \\leq x \\leq 5$. Let $\\lambda = 1$\n",
      "\n",
      "(c) Write a program to generate 10,000 samples according to the distribution of $f(x)$. Plot a histogram of the resulting samples, using 50 bings, along with the true distribution."
     ]
    },
    {
     "cell_type": "markdown",
     "metadata": {},
     "source": [
      "Part (a)\n",
      "-"
     ]
    },
    {
     "cell_type": "markdown",
     "metadata": {},
     "source": [
      "Finding the CDF, $F(x)$:\n",
      "\n",
      "$F(x) = \\int_{-\\infty}^x\\lambda e^{\\lambda t} dt$\n",
      "\n",
      "$F(x) = e^{\\lambda x}-e^{(-\\infty)\\lambda}$ for $0 \\leq x \\leq \\infty$\n",
      "\n",
      "\n",
      "Applying the condition that the CDF is zero at the lower bound and 1 at the upper bound:\n",
      "\n",
      "$F(x) = 0$ for $x < 0$\n",
      "\n",
      "$F(x) = e^{\\lambda x}-e^{(0)\\lambda} = e^{\\lambda x}-1$ for $0 \\leq x \\leq \\frac{\\log(2)}{\\lambda}$\n",
      "\n",
      "$F(x) = 1$ for $x > \\frac{\\log(2)}{\\lambda}$"
     ]
    },
    {
     "cell_type": "markdown",
     "metadata": {},
     "source": [
      "Finding the inverse CDF, $F^{-1}(x)$:\n",
      "\n",
      "$F^{-1}(x) = \\frac{\\log(x+1)}{\\lambda}$ for $ 0 \\leq y \\leq 1$"
     ]
    },
    {
     "cell_type": "markdown",
     "metadata": {},
     "source": [
      "Part (b)\n",
      "-"
     ]
    },
    {
     "cell_type": "code",
     "collapsed": false,
     "input": [
      "#Over range 0 to 5, and with lambda = 1\n",
      "\n",
      "x = arange(0., 5+0.001, 0.01)\n",
      "f = lambda x: e**x\n",
      "F = lambda x: e**x - 1"
     ],
     "language": "python",
     "metadata": {},
     "outputs": [],
     "prompt_number": 7
    },
    {
     "cell_type": "markdown",
     "metadata": {},
     "source": [
      "It turns out, the function doesn't need to be analytically solvable for $F(x)$ and $F^{-1}$. We can also determine the CDF and its inverse numerically and then obtain sampled values from that numerical inverse. The steps are as follows:\n",
      "\n",
      "I. Define the numerical array that describes the distribution.\n",
      "\n",
      "II. Use the cumulative sum of the distribution array and normalize each element by the integral(sum) of the distribution to compute the CDF as an array numerically.\n",
      "\n",
      "III. Generate an array of uniform random values $z$ on the interval U[0,1].\n",
      "\n",
      "IV. Find the value in the CDF array that corresponds to a particular $z_i$.\n",
      "\n",
      "V. Use the array index of the CDF value from the previous step to determine the sampled $x_i$ value for that $z_i$ value."
     ]
    },
    {
     "cell_type": "markdown",
     "metadata": {},
     "source": [
      "Exercise 2: Exponential Function- Numerical\n",
      "-"
     ]
    },
    {
     "cell_type": "markdown",
     "metadata": {},
     "source": [
      "(a) Write"
     ]
    }
   ],
   "metadata": {}
  }
 ]
}