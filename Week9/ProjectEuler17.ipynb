{
 "metadata": {
  "name": "ProjectEuler17"
 },
 "nbformat": 3,
 "nbformat_minor": 0,
 "worksheets": [
  {
   "cells": [
    {
     "cell_type": "markdown",
     "metadata": {},
     "source": [
      "Project Euler 17\n",
      "=\n",
      "\n",
      "Number Letter Counts\n",
      "-\n",
      "\n",
      "If the numbers 1 to 5 are written out in words: one, two, three, four, five, then there are 3 + 3 + 5 + 4 + 4 = 19 letters used in total.\n",
      "\n",
      "If all the numbers from 1 to 1000 (one thousand) inclusive were written out in words, how many letters would be used?"
     ]
    },
    {
     "cell_type": "code",
     "collapsed": false,
     "input": [
      "#I'll split up the tens places:\n",
      "single = [0,3,3,5,4,4,3,5,5,4] #0,1,2,3,4,5,6,7,8,9\n",
      "teens = [3,6,6,8,8,7,7,9,8,8] #10,11,12,13,14,15,16,17,18,19\n",
      "double = [0,0,6,6,5,5,5,7,6,6] #0,10[takn care of above],20,30,40,50,60,70,80,90\n",
      "hundred = ["
     ],
     "language": "python",
     "metadata": {},
     "outputs": []
    }
   ],
   "metadata": {}
  }
 ]
}